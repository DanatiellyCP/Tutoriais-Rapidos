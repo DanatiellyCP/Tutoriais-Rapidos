{
 "cells": [
  {
   "cell_type": "markdown",
   "metadata": {},
   "source": [
    "# Comandos  Básicos do Git\n",
    "### Tutorial de Uso do Git pelo Terminal e Integração com o GitHub"
   ]
  },
  {
   "cell_type": "markdown",
   "metadata": {},
   "source": [
    "1. Instalando o Git\n",
    "- Windows:\n",
    "- Baixe e instale o Git a partir do site oficial.\n",
    "\n",
    "- Linux:\n",
    "- Abra o terminal e digite código:\n",
    "sudo apt-get install git"
   ]
  },
  {
   "cell_type": "markdown",
   "metadata": {},
   "source": [
    "2. Configurando o Git:\n",
    "- Após a instalação, configure seu nome de usuário e email:\n",
    "- git config --global user.name \"Seu Nome\"\n",
    "- git config --global user.email \"seu.email@exemplo.com\""
   ]
  },
  {
   "cell_type": "markdown",
   "metadata": {},
   "source": [
    "3. Criando um Repositório Local:\n",
    "- Crie um novo diretório para o seu projeto e navegue até ele:\n",
    "- mkdir meu-projeto\n",
    "- cd meu-projeto\n",
    "- Inicialize um repositório Git dentro desse diretório:\n",
    "- git init"
   ]
  },
  {
   "cell_type": "markdown",
   "metadata": {},
   "source": [
    "4. Fazendo o Commit Inicial:\n",
    "- Crie um arquivo README.md:\n",
    "- echo \"# Meu Projeto\" > README.md\n",
    "- Adicione o arquivo ao índice do Git:\n",
    "- git add README.md\n",
    "- Faça o commit do arquivo:\n",
    "- git commit -m \"Commit inicial\""
   ]
  },
  {
   "cell_type": "markdown",
   "metadata": {},
   "source": [
    "5. Criando um Repositório no GitHub:\n",
    "- Acesse o GitHub e faça login.\n",
    "- Clique no ícone + no canto superior direito e selecione \"New repository\".\n",
    "- Preencha o nome do repositório e outras informações necessárias e clique em \"Create repository\"."
   ]
  },
  {
   "cell_type": "markdown",
   "metadata": {},
   "source": [
    " 6. Vinculando o Repositório Local ao GitHub:\n",
    "- No terminal, adicione a URL do repositório remoto:\n",
    "- git remote add origin https://github.com/SEU_USUARIO/meu-projeto.git\n"
   ]
  },
  {
   "cell_type": "markdown",
   "metadata": {},
   "source": [
    "7. Enviando o Repositório Local para o GitHub:\n",
    "- Envie os commits locais para o GitHub:\n",
    "- git push -u origin master"
   ]
  },
  {
   "cell_type": "markdown",
   "metadata": {},
   "source": [
    "8. Fluxo de Trabalho com o Git:\n",
    " Aqui estão alguns comandos essenciais para o uso diário do Git:"
   ]
  },
  {
   "cell_type": "markdown",
   "metadata": {
    "vscode": {
     "languageId": "bat"
    }
   },
   "source": [
    "- Clonar um repositório existente:\n",
    "git clone https://github.com/SEU_USUARIO/meu-projeto.git\n",
    " \n",
    "- Verificar o status do repositório:\n",
    "git status\n",
    "\n",
    "- Adicionar mudanças ao índice:\n",
    "git add .\n",
    "\n",
    "- Fazer commit das mudanças:\n",
    "git commit -m \"Mensagem do commit\"\n",
    "\n",
    "- Enviar mudanças para o repositório remoto:\n",
    "git push\n",
    "\n",
    "- Atualizar o repositório local com mudanças do repositório remoto:\n",
    "git pull\n"
   ]
  },
  {
   "cell_type": "markdown",
   "metadata": {},
   "source": []
  }
 ],
 "metadata": {
  "language_info": {
   "name": "python"
  }
 },
 "nbformat": 4,
 "nbformat_minor": 2
}
