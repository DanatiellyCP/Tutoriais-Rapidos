# Atalhos de Teclado da IDE do Delphi

- Ctrl+Shift+I: 
    - Indentar multiplas linhas de código de uma única vez em "n" espaços 
    - (conforme o que estiver especificado em Tools/Editor Options/General/Block Indent).

- Ctrl+Shift+U: 
    - Recuar indentação em "n" espaços (ídem acima).

- Ctrl+Shift+0 a 9: 
    - Inserir um Bookmark no editor de código. Ex: Você está na linha 845 e tecla Ctrl+Shift+0 
    - (irá aparecer um pequeno quadrado com o número 0 à esquerda do editor). Você vai para o início da unit e, 
    - para voltar para a linha 845, é só teclar Ctrl+0. Tecle novamente Ctrl+Shift+0 para desmarcar.

- Alt+G: Ir para uma determinada linha.

- Ctrl+Shift+Seta para cima ou para baixo: 
    - Intercala entre o cabeçalho da procedure/função e a implementação da mesma.

- Ctrl+Shift+C: 
    - Class Completion. Este recurso é muito interessante para "auto-completar" 
    - uma função/procedure que você irá criar. Ex: Você digita o seguinte cabeçalho de procedure na seção de interface da unit:
    - Ao teclar Ctrl+Shift+C, automaticamente o Delphi insere na área de Implementation (no final da unit) 
    - o "corpo" da procedure, como segue: Este recurso também funciona da forma inversa, ou seja, se você 
    - implementar o "corpo" da procedure/function, e teclar Ctrl+Shift+C, 
    - o Delphi irá adicionar o cabeçalho na área de interface da unit.

- Ctrl+Mouse: 
    - Clique com o botão esquerdo do mouse mantendo pressionada a tecla Ctrl sobre a chamada 
    - a uma procedure/function/variável para localizá-la na unit atual ou em outra unit.

- Ctrl+J (Code Templates): 
    - Este recurso também tem uma boa utilidade. Digamos que você, a todo momento, 
    - precise usar um "if..then..else". Ao invés de digitar todo comando, você pode teclar Ctrl+J e, 
    - localizar o Template (modelo) apropriado na janela que se abre. Tecle enter para aplicar o Template escolhido. 
    - Para alterar ou incluir novos templates, vá em Tools/Editor Options/Code Insight.

- Ctrl+O+U: 
    - Alterna a caixa (maiúscula/minúscula) do código selecionado.

- Ctrl+K+E: 
    - Converter o código selecionado para minúsculas.

- Ctrl+K+F: 
    - Converter o código selecionado para maiúsculas.

- Ctrl+E: 
    - Ativa a busca incremental. Você pode pressionar Ctrl+E e digitar diretamente a palavra que deseja procurar, 
    - sem a necessidade de passar por uma caixa de diálogo especial (Ctrl+F).

- Ctrl+Shift+Setas: 
    - Mover o(s) componente(s) selecionado(s) rapidamente no form. O "salto" da movimentação é 
    - determinado pelo valor informado em Tools/Environment Options/Grid size X e Y.

- Ctrl+Setas: 
    - Move o componente pixel a pixel.

- Shift+Setas: 
    - Redimensiona o componente pixel a pixel.

## OUTRAS DICAS:
- Quando estamos trabalhando com o Delphi, muitas vezes aparece a dita cuja Ampulheta e temos 
que ficar aguardando a boa vontade da mesma em voltar ao normal. Isso se deve ao fato de o Delphi 
manter uma análise de segundo plano constante, tanto do código-fonte que você está escrevendo, quando do 
código-fonte das units a que a sua unit atual se refere. Este recurso tem por finalidade auxiliar na 
codificação e na depuração do programa. O ideal é desabilitar este recurso e só habilitá-lo quando necessário. 
Para isso, entre em Tools/Editor Options/Code Insight e, no grupo Automatic Features, desmarque as 
opções 1, 2 e 4. Além disso, diminua o Delay para 0,5 sec.

- Quando for necessário usar estes recursos proceda da seguinte forma:
    - Se quiser usar o Code Completion, no momento em que digitar o comando e o ponto (Ex. Edit1. ), presione Ctrl+Barra 
    de Espaço para forçar a exibição dos comandos relativos àquele componente.

    - Se quiser usar o Code Parameters, para visualizar os tipos de parâmetros usados por uma função, 
    após digitar o nome da função e o parêntesis, pressione Ctrl+Shift+Barra de Espaço 
    (Ex: ZeraCod( ). Isto fará com que um hint apareça, exibindo qual parâmetro deve ser informado naquele momento.

    - Quando você move o ponteiro do mouse sobre um componente, uma dica de tela aparece mostrando o nome e o 
    tipo do mesmo (Ex: CdEmp: TEdit).

    - Quando você redimensiona um componente, a dica mostra o tamanho (width x height) atuais.

    - Quando você move um componente, a dica indica a posição atual (left e top).

    - Para selecionar vários componentes, mantenha a tecla Ctrl pressionada enquando arrasta o ponteiro do 
    mouse sobre os mesmos. Esta técnica é muito útil quando se quer selecionar componentes que estão 
    inseridos em um componente do tipo container (Panel, GroupBox, ScrollBox, etc).

    - Se você precisa adicionar vários componentes do mesmo tipo num form, mantenha a tecla Shift 
    pressionada e clique sobre o componente desejado na paleta de componentes do Delphi. 
    Agora é só ir clicando no form, onde quer que os novos componentes sejam inseridos. 

    - Para desfazer a "trava" do componente, clique no botão que tem um ponteiro de mouse, 
    localizado no lado esquerdo da paleta de componentes.

## Fonte:
    - https://www.devmedia.com.br/dicas-atalhos-de-teclado-da-ide-do-delphi-e-dicas-uteis/3067