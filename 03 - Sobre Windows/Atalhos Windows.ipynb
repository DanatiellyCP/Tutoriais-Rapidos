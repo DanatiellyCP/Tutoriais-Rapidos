{
 "cells": [
  {
   "cell_type": "markdown",
   "metadata": {},
   "source": [
    "## Atalhos Windows"
   ]
  },
  {
   "cell_type": "markdown",
   "metadata": {},
   "source": [
    "Conteúdo do site: https://support.microsoft.com/pt-br/windows/atalhos-do-teclado-no-windows-dcc61a57-8ff0-cffe-9796-cb9706c75eec#desktop"
   ]
  },
  {
   "cell_type": "markdown",
   "metadata": {},
   "source": [
    "### Para área de trabalho:"
   ]
  },
  {
   "cell_type": "markdown",
   "metadata": {},
   "source": [
    "- Alt + Esc  -  Percorre as janelas abertas.\n",
    "\n",
    "- Alt + F4  -   Fecha a janela ativa. (Se nenhuma janela ativa estiver presente, uma caixa de desligamento aparecerá.)\n",
    "\n",
    "- Alt + F8  -   Revela a senha digitada na tela de Credenciais.\n",
    "\n",
    "- Alt + Tecla de seta para a esquerda  -   Voltar.\n",
    "\n",
    "- Alt + Page Down  -   Move para baixo uma tela.\n",
    "\n",
    "- Alt + Page Up  -   Move para cima uma tela.\n",
    "\n",
    "- Alt + Tecla de seta para a direita  -  Avançar.\n",
    "\n",
    "- Alt + Barra de espaço  -  Abre o menu de contexto da janela ativa.\n",
    "\n",
    "- Alt + Tab  -  Alterna entre os aplicativos abertos enquanto pressiona Tab várias vezes.\n",
    "\n",
    "- Alt + Letra sublinhada  -  Executa o comando para a letra sublinhada em aplicativos.\n",
    "\n",
    "- Ctrl + Alt + Tab  -  Exibe os aplicativos abertos.\n",
    "\n",
    "- Ctrl + Teclas de seta  -  Altera o tamanho do menu Iniciar.\n",
    "\n",
    "- Ctrl + Teclas de seta (para selecionar) + Barra de espaço  -  Seleciona vários itens na área de trabalho ou no Explorador de Arquivos.\n",
    "\n",
    "- Ctrl + Clique no botão do aplicativo agrupado  -  Percorre as janelas no grupo da barra de tarefas.\n",
    "\n",
    "- Ctrl + Tecla de seta para baixo  -  Move o cursor para o início do próximo parágrafo.\n",
    "\n",
    "- Ctrl + F5 (ou) Ctrl + R  -  Atualiza a janela atual.\n",
    "\n",
    "- Ctrl + Tecla de seta para a esquerda  -  Move o cursor para o início da palavra anterior.\n",
    "\n",
    "- Ctrl + Tecla de seta para a direita  -  Move o cursor para o início da próxima palavra.\n",
    "\n",
    "- Ctrl + Shift  -  Altera o layout do teclado.\n",
    "\n",
    "- Ctrl + Shift + Tecla de seta  -  Seleciona o bloco de texto.\n",
    "\n",
    "- Ctrl + Shift + Clique no botão do aplicativo  -  Executa o aplicativo como administrador da Barra de tarefas.\n",
    "\n",
    "- Ctrl + Shift + Esc  -  Abre o Gerenciador de Tarefas.\n",
    "\n",
    "- Ctrl + Barra de espaço  -  Habilita ou desabilita o IME chinês.\n",
    "\n",
    "- Ctrl + Tecla de seta para cima  -  Move o cursor para o início do parágrafo anterior\n",
    "\n",
    "- Shift + Teclas de seta  -  Seleciona vários itens.\n",
    "\n",
    "- Shift + Clique no botão do aplicativo  -  Abre outra instância de um aplicativo da barra de tarefas.\n",
    "\n",
    "- Shift + F10  -  Abre o menu de contexto para o item selecionado.\n",
    "\n",
    "- Shift + Clique com o botão direito no botão do aplicativo   -  Mostra o menu da janela para o aplicativo da barra de tarefas.\n",
    "\n",
    "- Shift + clicar com o botão direito no botão do aplicativo agrupado  -  Mostra o menu da janela para o grupo na Barra de tarefas."
   ]
  }
 ],
 "metadata": {
  "language_info": {
   "name": "python"
  }
 },
 "nbformat": 4,
 "nbformat_minor": 2
}
