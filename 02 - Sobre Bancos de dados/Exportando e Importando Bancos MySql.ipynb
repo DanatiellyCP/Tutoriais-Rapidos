{
 "cells": [
  {
   "cell_type": "markdown",
   "metadata": {},
   "source": [
    "## Passo a Passo para Importar e Exportar Bancos MySql"
   ]
  },
  {
   "cell_type": "markdown",
   "metadata": {},
   "source": [
    "- 1 -  Abrir o terminal;\n",
    "- 2 -  No terminal entre na pasta do mysql;\n",
    "\n"
   ]
  },
  {
   "cell_type": "markdown",
   "metadata": {},
   "source": [
    "- 3 - Instalações Windows:\n",
    "\n",
    "- Para instalação Xampp:\n",
    "cd C:\\xampp\\mysql\\bin \n",
    "\n",
    "- Para Instalação Wamp:\n",
    "cd C:\\wamp64\\bin\\mysql\\mysql8.3.0\\bin"
   ]
  },
  {
   "cell_type": "markdown",
   "metadata": {},
   "source": [
    "- 4 - Para Exportar Banco:\n",
    "\n",
    "mysqldump -u root -p nome_banco > caminho\\nome_arquivo.sql\n"
   ]
  },
  {
   "cell_type": "markdown",
   "metadata": {},
   "source": [
    "- 5 - Para Importar Banco:"
   ]
  },
  {
   "cell_type": "markdown",
   "metadata": {},
   "source": [
    "mysql -u root -h localhost -p nome_banco < \\caminho\\nome_arquivo.sql"
   ]
  },
  {
   "cell_type": "markdown",
   "metadata": {},
   "source": [
    "- 6 - Sobre os Parâmetros:\n",
    "- -u informa o usuário do banco de dados;\n",
    "- -p solicita a digitação da senha após a confirmação do comando. \n",
    "- O último argumento é o banco de dados que vai ser exportado."
   ]
  }
 ],
 "metadata": {
  "language_info": {
   "name": "python"
  }
 },
 "nbformat": 4,
 "nbformat_minor": 2
}
